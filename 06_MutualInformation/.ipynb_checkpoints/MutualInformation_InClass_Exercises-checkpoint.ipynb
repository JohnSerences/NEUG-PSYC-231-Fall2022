{
 "cells": [
  {
   "cell_type": "markdown",
   "metadata": {},
   "source": [
    "# In class exercise...Mutual Information"
   ]
  },
  {
   "cell_type": "markdown",
   "metadata": {},
   "source": [
    "## Imports"
   ]
  },
  {
   "cell_type": "code",
   "execution_count": 1,
   "metadata": {},
   "outputs": [],
   "source": [
    "import numpy as np\n",
    "import matplotlib.pyplot as plt\n",
    "from sklearn.metrics import mutual_info_score"
   ]
  },
  {
   "cell_type": "markdown",
   "metadata": {},
   "source": [
    "## Load in the eeg data from previous tutorials...\n",
    "* `data` is a trials x time matrix of EEG responses\n",
    "* `sr` is the sample rate\n",
    "* `tx` is the time associated with each sample on each trial"
   ]
  },
  {
   "cell_type": "code",
   "execution_count": 2,
   "metadata": {},
   "outputs": [
    {
     "name": "stdout",
     "output_type": "stream",
     "text": [
      "Shape of the big eeg data set:  (1600, 4102)\n",
      "Sample rate:  1024\n"
     ]
    }
   ],
   "source": [
    "# load the data...\n",
    "eeg = np.load('eeg_data01.npz')\n",
    "\n",
    "# get the different arrays like this...kind of like a structure in matlab. \n",
    "eeg['data']\n",
    "eeg['sr']\n",
    "eeg['tx']\n",
    "\n",
    "# and can query the attributes of the data like this...which will tell us that there 1600 trials and 4102 timepoints per trial sampled\n",
    "# at 1024Hz\n",
    "print('Shape of the big eeg data set: ', eeg['data'].shape)\n",
    "print('Sample rate: ', eeg['sr'])\n",
    "\n",
    "# and if you want to save some typing, especially because we only have a few variables, you reassign the different arrays like this\n",
    "data = eeg['data']\n",
    "data[400:800,:] += 10\n",
    "sr = eeg['sr']\n",
    "tx = eeg['tx']"
   ]
  },
  {
   "cell_type": "markdown",
   "metadata": {},
   "source": [
    "## Make a vector that labels each trial as coming from experimental conditions 1,2,3,4\n",
    "* Figure out how many trials there are in the data set (let's call that `N`). \n",
    "* Divide that by 4\n",
    "* then make a vector that has N/4 1s, followed by N/4 2s, followed by N/4 3s, followed by N/4 4s (I would suggest using `np.hstack` and `np.ones` to achieve this but there are many ways...)\n"
   ]
  },
  {
   "cell_type": "code",
   "execution_count": 3,
   "metadata": {},
   "outputs": [
    {
     "data": {
      "image/png": "[encoded data removed]",
      "text/plain": [
       "<Figure size 432x288 with 1 Axes>"
      ]
     },
     "metadata": {
      "needs_background": "light"
     },
     "output_type": "display_data"
    }
   ],
   "source": [
    "N = data.shape[0]\n",
    "num_samp_cond = int(N/4)\n",
    "cond = np.hstack((np.ones(num_samp_cond), \n",
    "                  np.ones(num_samp_cond)*2, np.ones(num_samp_cond)*3, np.ones(num_samp_cond)*4))\n",
    "\n",
    "plt.plot(cond)\n",
    "plt.xlabel('trial number')\n",
    "plt.ylabel('Condition label')\n",
    "plt.show()\n"
   ]
  },
  {
   "cell_type": "markdown",
   "metadata": {},
   "source": [
    "## Now avgerage the data from condition 2, avg the data from condition 3, and plot against the time axis (tx) - we're going to ignore conditions 1 and 4"
   ]
  },
  {
   "cell_type": "code",
   "execution_count": 4,
   "metadata": {},
   "outputs": [
    {
     "data": {
      "image/png": "[encoded data removed]",
      "text/plain": [
       "<Figure size 432x288 with 1 Axes>"
      ]
     },
     "metadata": {
      "needs_background": "light"
     },
     "output_type": "display_data"
    }
   ],
   "source": [
    "avg1 = np.mean(data[cond==2,:], axis=0)\n",
    "avg2 = np.mean(data[cond==3,:], axis=0)\n",
    "\n",
    "plt.plot(tx, avg1, color='r', linewidth=2)\n",
    "plt.plot(tx, avg2, color='k', linewidth=2)\n",
    "plt.show()"
   ]
  },
  {
   "cell_type": "markdown",
   "metadata": {},
   "source": [
    "## Then compute the MI between evoked responses and experimental condition in a specific time window from 1000ms to 1500ms post-stimulus onset (so >= 1000 and <1500)\n",
    "* You have one discrete variable (cond, or experimental condition label)\n",
    "* You have the EEG data from each condition, which is a continuous variable\n",
    "* First compute the mean response across the time window for each trial of condition 2. This should give you a 400 element array with the mean from each trial across the time window. \n",
    "* Then compute the mean response across the time window for each trial of condition 3. \n",
    "* Then concatenate the two 400 element arrays to make one 800 element array\n",
    "* You might also want to create a new set of labels for each trial in your new concatenated array - can relabel conds 2 and 3 with a 0 and 1 for ease of looping...so it would have 400 0's followed by 400 1's\n",
    "* Use only 10 bins for discretizing the continuous EEG data...\n",
    "* Then compute the MI between experimental condition and EEG responses"
   ]
  },
  {
   "cell_type": "markdown",
   "metadata": {},
   "source": [
    "#### first compute means over time window for conds 2 and 3, stack up..."
   ]
  },
  {
   "cell_type": "code",
   "execution_count": 5,
   "metadata": {},
   "outputs": [
    {
     "data": {
      "text/plain": [
       "(800,)"
      ]
     },
     "execution_count": 5,
     "metadata": {},
     "output_type": "execute_result"
    }
   ],
   "source": [
    "# get the data from the time window...\n",
    "td = data[:, (tx>=1000) & (tx<1500)]\n",
    "\n",
    "# just data from cond 2, meaned across time window\n",
    "td2 = np.mean(td[cond==2,:], axis=1)\n",
    "td3 = np.mean(td[cond==3,:], axis=1)\n",
    "\n",
    "# concatenate\n",
    "resp = np.hstack((td2, td3))\n",
    "\n",
    "# check the size to be sure we did this right...\n",
    "resp.shape"
   ]
  },
  {
   "cell_type": "markdown",
   "metadata": {},
   "source": [
    "#### then make new labels...400 zeros stacked on top of 400 ones"
   ]
  },
  {
   "cell_type": "code",
   "execution_count": 6,
   "metadata": {},
   "outputs": [
    {
     "data": {
      "text/plain": [
       "(800,)"
      ]
     },
     "execution_count": 6,
     "metadata": {},
     "output_type": "execute_result"
    }
   ],
   "source": [
    "# make a new set of labels\n",
    "\n",
    "# first 1/2 of the data came from condition 1, second half from condition 2\n",
    "\n",
    "# ntrials in each condition\n",
    "ntrials = int(resp.shape[0]/2)\n",
    "\n",
    "stims = np.hstack((np.zeros(ntrials),np.ones(ntrials)))\n",
    "\n",
    "# check the shape\n",
    "stims.shape"
   ]
  },
  {
   "cell_type": "markdown",
   "metadata": {},
   "source": [
    "#### now compute MI!"
   ]
  },
  {
   "cell_type": "code",
   "execution_count": 7,
   "metadata": {},
   "outputs": [
    {
     "name": "stdout",
     "output_type": "stream",
     "text": [
      "0.37098012425233656\n"
     ]
    }
   ],
   "source": [
    "# how many bins? \n",
    "nbins = 30\n",
    "\n",
    "# first bin the data using histogram. \n",
    "# however, just save the edges of each bin\n",
    "_, edges = np.histogram(resp, bins=nbins)\n",
    "\n",
    "# then sort all of the continuous responses in bins\n",
    "# use numpy digitize...you pass in the continuous \n",
    "# response and the bin edges and it will sort each \n",
    "# response into the appropriate bin\n",
    "bin_y = np.digitize(resp, edges)\n",
    "\n",
    "# then compute MI! note that stims is a N x 1 array (2D)\n",
    "# and mutual_info_score requires a 1D array so I am \n",
    "# \"squeezing\" out the the singular dim to make it a N, array (1D) \n",
    "MI = mutual_info_score(np.squeeze(stims),bin_y) * np.log2(np.e)\n",
    "\n",
    "print(MI)"
   ]
  },
  {
   "cell_type": "markdown",
   "metadata": {},
   "source": [
    "## Does that number seem kinda low given the visual separation of the mean responses you plotted above? Plot some histograms of the data from condition 2 vs condition 3...how much overlap is there? Does the MI value you computed now seem more reasonable? "
   ]
  },
  {
   "cell_type": "code",
   "execution_count": 8,
   "metadata": {},
   "outputs": [
    {
     "data": {
      "image/png": "[encoded data removed]",
      "text/plain": [
       "<Figure size 432x288 with 1 Axes>"
      ]
     },
     "metadata": {
      "needs_background": "light"
     },
     "output_type": "display_data"
    }
   ],
   "source": [
    "plt.hist(resp[stims==0], alpha = .8)\n",
    "plt.hist(resp[stims==1], alpha = .8)\n",
    "plt.show()"
   ]
  },
  {
   "cell_type": "markdown",
   "metadata": {},
   "source": [
    "## Challenge question: How \"good\" is that MI value? What is the max value it could take in this scenario? How might you compute a `normalized` MI metric that tells you how much information there is relative to that max value? "
   ]
  },
  {
   "cell_type": "markdown",
   "metadata": {},
   "source": [
    "## "
   ]
  }
 ],
 "metadata": {
  "kernelspec": {
   "display_name": "Python 3",
   "language": "python",
   "name": "python3"
  },
  "language_info": {
   "codemirror_mode": {
    "name": "ipython",
    "version": 3
   },
   "file_extension": ".py",
   "mimetype": "text/x-python",
   "name": "python",
   "nbconvert_exporter": "python",
   "pygments_lexer": "ipython3",
   "version": "3.8.8"
  }
 },
 "nbformat": 4,
 "nbformat_minor": 2
}
