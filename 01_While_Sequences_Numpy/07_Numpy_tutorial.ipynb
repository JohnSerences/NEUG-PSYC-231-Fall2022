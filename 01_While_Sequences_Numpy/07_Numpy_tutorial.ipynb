{
 "cells": [
  {
   "cell_type": "markdown",
   "metadata": {},
   "source": [
    "# NumPy intro\n",
    "\n",
    "* js (jserences@ucsd.edu), Fall 2022 for NEUG/PSYC 231\n",
    "\n",
    "* Allows fast matrix operations and is the core numerical computing package for python\n",
    "\n",
    "-  [full list of routines](https://docs.scipy.org/doc/numpy-dev/reference/routines.html#routines)"
   ]
  },
  {
   "cell_type": "code",
   "execution_count": null,
   "metadata": {},
   "outputs": [],
   "source": [
    "# import numpy and other stuff for this tutorial\n",
    "import numpy as np\n",
    "from numpy import pi\n",
    "import matplotlib.pyplot as plt"
   ]
  },
  {
   "cell_type": "markdown",
   "metadata": {},
   "source": [
    "## Initialize a numpy array object and do a few basic operations\n",
    "* the numpy array class, or object, is referred to as a **ndarray** "
   ]
  },
  {
   "cell_type": "code",
   "execution_count": null,
   "metadata": {},
   "outputs": [],
   "source": [
    "# set up an array and figure out shape...    \n",
    "my_array = np.arange(10)    # the interval includes `start` but excludes `stop`, overal interval [start...stop-1]\n",
    "print(my_array)\n",
    "my_array.shape     "
   ]
  },
  {
   "cell_type": "code",
   "execution_count": null,
   "metadata": {
    "scrolled": true
   },
   "outputs": [],
   "source": [
    "# reshape array\n",
    "my_array = np.arange(10)\n",
    "print(my_array.shape)   \n",
    "\n",
    "my_array = my_array.reshape(2,5)   # why is (2,5) and (5,2) ok but (2,6) not ok? \n",
    "print(my_array.shape)   \n",
    "print(my_array)\n",
    "\n",
    "# can also directly re-assign the shape\n",
    "my_array.shape = 5,2\n",
    "print(my_array.shape)\n",
    "print(my_array)"
   ]
  },
  {
   "cell_type": "code",
   "execution_count": null,
   "metadata": {},
   "outputs": [],
   "source": [
    "# neat trick...can also reshape with 'shape' and use a -1 which means 'whatever works' \n",
    "# be careful though - better to not leave things to chance and to be explicit whenever possible\n",
    "my_array = np.arange(42)\n",
    "my_array.shape = 2,3,-1\n",
    "print(my_array)\n",
    "my_array.shape"
   ]
  },
  {
   "cell_type": "markdown",
   "metadata": {},
   "source": [
    "\n",
    "## SUPER DUPER IMPORTANT THING - read this!\n",
    "    \n",
    "Matlab and Fortran use column-major layout by default, whereas C and Python use row-major layout. This refers to how information in multiple dim arrays are stored in memory (whether column elements are contiguous in memory or row elements are contiguous). \n",
    "\n",
    "Since Matlab and Python use different defaults, it is super important that you keep this in mind if you are transitioning to python from matlab, esp if you are translating analysis code that requires reshaping or other matrix manipulations (you will get different results). If you want to emulate the matlab way in your python code, you can specify column-major order explicitly. For example, you can do:\n",
    "    \n",
    "`np.reshape(new_dims, order='F')`\n",
    "    \n",
    "to obtain column major operations (with the `F` standing for Fortran order)\n",
    "    \n",
    "[row vs column major order](https://en.wikipedia.org/wiki/Row-_and_column-major_order)\n",
    "    \n"
   ]
  },
  {
   "cell_type": "markdown",
   "metadata": {},
   "source": [
    "## Transpose array - swap row/column in 2D array"
   ]
  },
  {
   "cell_type": "code",
   "execution_count": null,
   "metadata": {},
   "outputs": [],
   "source": [
    "my_array = np.arange(100)\n",
    "my_array = my_array.reshape(5,20)\n",
    "my_array.shape\n",
    "my_array = my_array.T\n",
    "my_array.shape"
   ]
  },
  {
   "cell_type": "markdown",
   "metadata": {},
   "source": [
    "## data types (and remember - strong typed language)"
   ]
  },
  {
   "cell_type": "code",
   "execution_count": null,
   "metadata": {},
   "outputs": [],
   "source": [
    "print('Dims of data: ', my_array.ndim)                              # number of dims\n",
    "print('Size of each element (bytes): ', my_array.itemsize)          # size of each element in bytes\n",
    "print('Total number of elements in array: ', my_array.size)         # total number of elements in array\n",
    "print('Name of data type: ', my_array.dtype.name)                   # name of data type (float, int32, int64 etc)"
   ]
  },
  {
   "cell_type": "code",
   "execution_count": null,
   "metadata": {},
   "outputs": [],
   "source": [
    "# will infer data type based on input values...here we have 1 float so the whole thing is float\n",
    "float_array = np.array([1.2,2,3])  \n",
    "float_array.dtype.name             # or np.dtype"
   ]
  },
  {
   "cell_type": "markdown",
   "metadata": {},
   "source": [
    "<div class=\"alert alert-success\">\n",
    "what happens if you initialize with floating point numbers but you declare an int data type?\n",
    "</div>"
   ]
  },
  {
   "cell_type": "code",
   "execution_count": null,
   "metadata": {},
   "outputs": [],
   "source": [
    "int_array = np.array([[1.1,2.7,3.4], [6.9,7.5,8.2]], dtype = 'int32')   # complex, float32, float64, int32, uint32 (unsigned int32), etc\n",
    "int_array"
   ]
  },
  {
   "cell_type": "markdown",
   "metadata": {},
   "source": [
    "## Allocate arrays of zeros, ones or rand to pre-allocate memory before filling up later\n",
    "* handy when you know what size you need, but you're not ready to fill it up yet...\n",
    "* saves you from dynamically resizing the matrix during analysis, which is **very slow**\n",
    "* if you fill with zeros/ones, can be handy for matrix operations\n",
    "* filling with NaNs is also a way to check for errors in how you fill up the matrix\n",
    "* specify size as a tuple if N-D array where N>1 (because size is one input param, even if it is multiple numbers)"
   ]
  },
  {
   "cell_type": "code",
   "execution_count": null,
   "metadata": {},
   "outputs": [],
   "source": [
    "# note the () around the dims because you specify as a tuple...default type is float64\n",
    "zero_array = np.zeros( (3,4) )   \n",
    "print('Data type:', zero_array.dtype)"
   ]
  },
  {
   "cell_type": "code",
   "execution_count": null,
   "metadata": {},
   "outputs": [],
   "source": [
    "# explicitly declare data type\n",
    "zero_array = np.zeros( (3,4), dtype = np.int32)   \n",
    "print('Data type:', zero_array.dtype)\n",
    "print(zero_array)"
   ]
  },
  {
   "cell_type": "code",
   "execution_count": null,
   "metadata": {},
   "outputs": [],
   "source": [
    "# ones\n",
    "# note the 3D output below...4, 4x4 squares of floating point 1s...\n",
    "np.ones( (4,4,4), dtype=np.float64 ) * 10     "
   ]
  },
  {
   "cell_type": "markdown",
   "metadata": {},
   "source": [
    "### Initialize the array to some arbitrary value with np.full\n",
    "* useful for filling up array with 'not a number' (nan)\n",
    "* super useful for bug checking"
   ]
  },
  {
   "cell_type": "code",
   "execution_count": null,
   "metadata": {},
   "outputs": [],
   "source": [
    "# nan's!!! (not a number)\n",
    "np.full( (10,10), np.nan)"
   ]
  },
  {
   "cell_type": "markdown",
   "metadata": {},
   "source": [
    "### Simple example of bug checking with NaNs. Suppose you allocate an array that is 10 elements long and you want to fill it up. However, you make a mistake and don't actually fill up all of the slots. Easy to spot-check this if you init the array with NaNs"
   ]
  },
  {
   "cell_type": "code",
   "execution_count": null,
   "metadata": {},
   "outputs": [],
   "source": [
    "x = np.full(10, np.nan)\n",
    "\n",
    "#####\n",
    "# 4,000 lines of code later...\n",
    "#####\n",
    "\n",
    "# then fill up every slot witha 1s (incorrectly)\n",
    "x[0:8] = 1\n",
    "print(x)\n",
    "\n",
    "# spot-check to see if there is an error\n",
    "if np.any(np.isnan(x)):   # or np.sum(np.isnan(x))\n",
    "    print('messed up array filling!!!')"
   ]
  },
  {
   "cell_type": "markdown",
   "metadata": {},
   "source": [
    "## Can also create sequences of numbers using arange...\n",
    "* For integer arguments the function is equivalent to the Python built-in range function, but returns an ndarray rather than a list.\n",
    "* same notation: start, stop, step\n",
    "* unlike classic range function, can take decimal step size...but be careful! "
   ]
  },
  {
   "cell_type": "code",
   "execution_count": null,
   "metadata": {},
   "outputs": [],
   "source": [
    "# can specify start, stop and step\n",
    "seq_array = np.arange(0,30,5)         # start, stop (exclusive), step size\n",
    "print(seq_array)\n",
    "# note that 30 is not in there..."
   ]
  },
  {
   "cell_type": "code",
   "execution_count": null,
   "metadata": {},
   "outputs": [],
   "source": [
    "seq_array = np.arange(0,10,.56788)    # decimal input is ok too (and again - stop is NOT included)\n",
    "print(seq_array)"
   ]
  },
  {
   "cell_type": "markdown",
   "metadata": {},
   "source": [
    "<div class=\"alert alert-info\">\n",
    "Because of machine precision issues, sometimes hard to predict how many elements will end up in an array when initialized using arange...so often better to specify a sequence based on start point, stop point, and the exact number of elements that you want (or the number of steps between start and stop). linspace (linear spacing) is the function to do this, and note that unlike arange that ends < stop point, linspace will always end exactly at the specified stop point. \n",
    "</div>"
   ]
  },
  {
   "cell_type": "code",
   "execution_count": null,
   "metadata": {},
   "outputs": [],
   "source": [
    "# start, stop, number of linearly spaced steps between start and stop...note that start AND stop included!\n",
    "lin_array = np.linspace(0,180,9) \n",
    "print(lin_array)"
   ]
  },
  {
   "cell_type": "markdown",
   "metadata": {},
   "source": [
    "## One common use of linspace...eval a function over an interval. quick intro to basic plotting here too (and more on plotting later in a separate tutorial)"
   ]
  },
  {
   "cell_type": "code",
   "execution_count": null,
   "metadata": {},
   "outputs": [],
   "source": [
    "x = np.linspace(0, 2*pi, 360)\n",
    "sin_wave = np.sin(x)\n",
    "\n",
    "# plotting - note conversion of x values back to degrees for easier human readability\n",
    "h = plt.plot(x*180/pi, sin_wave, 'k-', linewidth = 4)    # specify x,y data...convert rad to deg for x-axis\n",
    "\n",
    "# label each axis and give it a title\n",
    "plt.xlabel('angle (deg)')\n",
    "plt.ylabel('Amplitude')\n",
    "plt.title('Sin Wave')\n",
    "plt.grid(1)\n",
    "plt.show()"
   ]
  },
  {
   "cell_type": "markdown",
   "metadata": {},
   "source": [
    "## Initializing arrays with random numbers...use np.random.rand\n",
    "* will use this a LOT to simulate data\n",
    "* specify size of desired array rows x columns\n",
    "* note: this is a 'wrapper' function for random_sample. \n",
    "    * mostly made for recovering matlabbers and somewhat thus somewhat annoyingly does not take its array size input as a tuple like np.zeros (ones, full, etc) do. If you look at random_sample, it takes a tuple \n",
    "    * while this makes the input format different from numpy functions, it only takes one possible input so not too confusing.\n",
    "* **Important** NOT truly random! Instead pseudo-random numbers generated using a deterministic algorithm. If you know the seed value of the algorithm (starting point), then you can reproduce the exact sequence"
   ]
  },
  {
   "cell_type": "code",
   "execution_count": null,
   "metadata": {},
   "outputs": [],
   "source": [
    "rand_array = np.random.rand(2,4)   # drawn from uniform over [0,1]\n",
    "print(rand_array)"
   ]
  },
  {
   "cell_type": "markdown",
   "metadata": {},
   "source": [
    "### Not truly random!!!\n",
    "* always set and save the random seed when doing any kind of simulation or stimulus presentation coding...that way you can go back and reproduce the exact same \"random\" sequence later on... "
   ]
  },
  {
   "cell_type": "code",
   "execution_count": null,
   "metadata": {},
   "outputs": [],
   "source": [
    "np.random.seed(0)\n",
    "rand_array = np.random.rand(10)\n",
    "print(rand_array)"
   ]
  },
  {
   "cell_type": "markdown",
   "metadata": {},
   "source": [
    "### Super handy tip: to make draws from a uniform random across a range a-b where a and b are not 0 and 1, use:\n",
    "`(b - a) * np.random.rand() + a`"
   ]
  },
  {
   "cell_type": "code",
   "execution_count": null,
   "metadata": {},
   "outputs": [],
   "source": [
    "a = 100   # max\n",
    "b = 75    # min\n",
    "r = 6     # num rows\n",
    "c = 4     # num cols\n",
    " \n",
    "(b - a) * np.random.rand(6,4) + a"
   ]
  },
  {
   "cell_type": "markdown",
   "metadata": {},
   "source": [
    "### Another neat trick to get a random assortment of 0s and 1s (e.g., to simulate coin flips in a model or in stimulus presentation software)"
   ]
  },
  {
   "cell_type": "code",
   "execution_count": null,
   "metadata": {},
   "outputs": [],
   "source": [
    "print(np.round(rand_array))"
   ]
  },
  {
   "cell_type": "markdown",
   "metadata": {},
   "source": [
    "## Simple elementwise arithmetic operations like *, /, + and - work on corresponding elements of arrays (i.e., element-by-element operation) \n",
    "* This is where a lot of speed improvements can be had over traditional python code because instead of, for example, doing element-by-element multiplication using a for loop you can do it all in one line and numpy will optimize the operation behind the scenes. \n"
   ]
  },
  {
   "cell_type": "code",
   "execution_count": null,
   "metadata": {},
   "outputs": [],
   "source": [
    "x = np.linspace(0,2*pi,360)\n",
    "y = np.sin(x)\n",
    "\n",
    "plt.subplot(3, 1, 1)\n",
    "plt.plot(x, x, 'k--')\n",
    "plt.title('X')\n",
    "plt.ylabel('Amplitude')\n",
    "plt.show()\n",
    "\n",
    "plt.subplot(3, 1, 2)\n",
    "plt.plot(x, y, 'k--')\n",
    "plt.title('Y')\n",
    "plt.xlabel('angle')\n",
    "plt.ylabel('Amplitude')\n",
    "plt.show()\n",
    "\n",
    "plt.subplot(3, 1, 3)\n",
    "plt.plot(x, x-y, 'k--')\n",
    "plt.title('X-Y')\n",
    "plt.xlabel('angle')\n",
    "plt.ylabel('Amplitude')\n",
    "\n",
    "plt.show()"
   ]
  },
  {
   "cell_type": "markdown",
   "metadata": {},
   "source": [
    "## Element by element multiplication...normal python vs numpy \n",
    "* use the `%timeit` line magic to run the code a bunch of times to eval how long it takes"
   ]
  },
  {
   "cell_type": "code",
   "execution_count": null,
   "metadata": {},
   "outputs": [],
   "source": [
    "N = 1000000"
   ]
  },
  {
   "cell_type": "code",
   "execution_count": null,
   "metadata": {},
   "outputs": [],
   "source": [
    "\n",
    "x = np.linspace(0,100,N)\n",
    "y = np.linspace(0,100,N)\n",
    "\n",
    "out = np.zeros(len(y))\n",
    "\n",
    "%timeit for n in range(len(y)): out[n] = x[n] * y[n]"
   ]
  },
  {
   "cell_type": "code",
   "execution_count": null,
   "metadata": {},
   "outputs": [],
   "source": [
    "\n",
    "\n",
    "x = np.linspace(0,100,N)\n",
    "y = np.linspace(0,100,N)\n",
    "\n",
    "%timeit out = x * y"
   ]
  },
  {
   "cell_type": "markdown",
   "metadata": {},
   "source": [
    "## Unary operations (operation with single operand) \n",
    "* Can be implemented as methods of the numpy array class (or numpy array object)\n",
    "* Or can be implemented via a call to a numpy function that is applied to a numpy array class\n",
    "* These will have the same outcome, just depends on usage/style"
   ]
  },
  {
   "cell_type": "code",
   "execution_count": null,
   "metadata": {},
   "outputs": [],
   "source": [
    "# methods of the np array class\n",
    "x = np.arange(10).reshape(2,5)   # make a 2 x 5 matrix\n",
    "print(x)\n",
    "\n",
    "x.sum()                          # sum of all elements\n",
    "print(x.sum(axis=0))             # sum of each column (across 1st dim)\n",
    "print(x.sum(axis=1))             # sum of each row (across 2nd dim)\n",
    "print(x.sum(0))                  # don't need the axis arg, but always use it!"
   ]
  },
  {
   "cell_type": "code",
   "execution_count": null,
   "metadata": {},
   "outputs": [],
   "source": [
    "# np functions applied to instances of np array class\n",
    "x = np.arange(10).reshape(2,5)   # make a 2 x 5 matrix\n",
    "print(x)\n",
    "\n",
    "print(np.sum(x))                 # sum of all elements\n",
    "print(np.sum(x, axis=0))         # sum of each column (across 1st dim)\n",
    "print(np.sum(x, axis=1))         # sum of each row (across 2nd dim)\n",
    "print(np.sum(x, 0))              # don't need the \"axis\" keyword, but always use it for bonus style points!"
   ]
  },
  {
   "cell_type": "markdown",
   "metadata": {},
   "source": [
    "## Other common methods/functions..."
   ]
  },
  {
   "cell_type": "code",
   "execution_count": null,
   "metadata": {},
   "outputs": [],
   "source": [
    "# used as methods...\n",
    "print(x.min())           # min of entire matrix\n",
    "print(x.min(axis=0))     # min across 1st dim\n",
    "print(x.max(axis=1))          # max across 2nd dim\n",
    "print(x.prod())               # product of all elements\n",
    "print(x.cumprod(axis=1))      # cumulative product across 2nd dim"
   ]
  },
  {
   "cell_type": "code",
   "execution_count": null,
   "metadata": {},
   "outputs": [],
   "source": [
    "# used as functions\n",
    "print(np.min(x))           # min of entire matrix\n",
    "print(np.min(x, axis=0))     # min across 1st dim\n",
    "print(np.max(x, axis=1))          # max across 2nd dim\n",
    "print(np.cumprod(x, axis=1))      # cumulative product across 2nd dim"
   ]
  },
  {
   "cell_type": "markdown",
   "metadata": {},
   "source": [
    "## Indexing and slicing and iterating in NumPy\n",
    "* For 1D np arrays, works like the list objects that we've been working with in earlier tutorials. "
   ]
  },
  {
   "cell_type": "code",
   "execution_count": null,
   "metadata": {},
   "outputs": [],
   "source": [
    "# create a 1d array\n",
    "x = np.linspace(0,9,10)\n",
    "print(x)\n",
    "x[1]                     # just the second entry, remember 0 based indexing\n",
    "\n",
    "# specific start and stop points (exclusive)\n",
    "x[0:2]                   # the first and second entries in the array, so N>=0 and N<2 (note the < upper bound - not inclusive)\n",
    "\n",
    "# assign the 2nd - 4th element to 100 (index 1,2,3)\n",
    "x[1:4] = 100               \n",
    "print(x[1:4])\n",
    "\n",
    "# start, stop, step interval\n",
    "print(x[0:8:2])\n",
    "\n",
    "# reverse x\n",
    "print(x[::-1])\n",
    "\n",
    "# iterate over all elements in x\n",
    "for i in x:\n",
    "    print(i*3)    # then i takes the value of each element in x\n",
    "    "
   ]
  },
  {
   "cell_type": "markdown",
   "metadata": {},
   "source": [
    "## Multidimentional array indexing, slicing etc"
   ]
  },
  {
   "cell_type": "code",
   "execution_count": null,
   "metadata": {},
   "outputs": [],
   "source": [
    "x = np.round(np.random.rand(10,5)*10)   # generate a matrix of uniformly distributed random numbers over 0:10\n",
    "print(x)"
   ]
  },
  {
   "cell_type": "code",
   "execution_count": null,
   "metadata": {},
   "outputs": [],
   "source": [
    "x[0,0]     # first row, first column\n",
    "x[2,3]     # third row, 4th column"
   ]
  },
  {
   "cell_type": "code",
   "execution_count": null,
   "metadata": {},
   "outputs": [],
   "source": [
    "x[:, 3]    # all entries in the 4th column \n",
    "x[3, :]    # all entries in the 4th row\n",
    "x[0:2, 4]  # first two entries of the 5th column\n",
    "x[6, 2:4]  # 7th row, 3rd and 4th entries. "
   ]
  },
  {
   "cell_type": "code",
   "execution_count": null,
   "metadata": {},
   "outputs": [],
   "source": [
    "x[6]       # if not all dims specified then missing values are considered complete slices\n",
    "x[6,]      # these three ways of writing all do the same thing...\n",
    "x[6,:]"
   ]
  },
  {
   "cell_type": "code",
   "execution_count": null,
   "metadata": {},
   "outputs": [],
   "source": [
    "# tricks...\n",
    "print('last row: ', x[-1,:])     # last row\n",
    "print('last column: ', x[:,-1])  # last column\n",
    "print('last entry: ', x[-1,-1])  # last value"
   ]
  },
  {
   "cell_type": "markdown",
   "metadata": {},
   "source": [
    "### Pull out subset of rows and columns"
   ]
  },
  {
   "cell_type": "code",
   "execution_count": null,
   "metadata": {},
   "outputs": [],
   "source": [
    "# generate a matrix of random numbers over 0-1\n",
    "x = np.random.rand(4,3) \n",
    "print(x)\n",
    "\n",
    "# first two rows - note that you don't have to specify the 2nd dim - and note that \n",
    "# '2' here means rows 0 and 1 (i.e., just the first two rows, exclusive of row 2!)\n",
    "y = x[:2] \n",
    "print('\\n', y)\n",
    "\n",
    "# can also take the last two rows...in the same manner...in this case rows 3 and 4\n",
    "y = x[2:] \n",
    "print('\\n', y)\n",
    "\n",
    "# first two rows, 1st column\n",
    "y = x[:2,0] \n",
    "print('\\n', y)\n",
    "\n",
    "# rows 3 - end, columns 2 - end\n",
    "y = x[2:,1:]\n",
    "print('\\n', y)"
   ]
  },
  {
   "cell_type": "markdown",
   "metadata": {},
   "source": [
    "## Use conditionals (boolean test) to index into arrays\n",
    "* for example: find all entries less than 15\n",
    "* or less than 15 or greater than 100...etc."
   ]
  },
  {
   "cell_type": "code",
   "execution_count": null,
   "metadata": {},
   "outputs": [],
   "source": [
    "# random uniform data over 0-200\n",
    "np.random.seed(0)\n",
    "x = np.random.rand(100) * 200\n",
    "\n",
    "# find only the values that are less than 15\n",
    "less15 = x[x<15]\n",
    "print(less15)\n",
    "\n",
    "# use & (and), | (or)\n",
    "less15_great100 = x[(x<15) | (x>100)]\n",
    "print(less15_great100)"
   ]
  },
  {
   "cell_type": "markdown",
   "metadata": {},
   "source": [
    "## Important - unlike a list, slicing an array creates a view of it! if you change the view, you also will change the original data!\n",
    "* A view means that two (or more) variables are referencing the same location (data) in memory...\n",
    "* This will be weird for those coming from Matlab...it can be effecient though in some cases to save memory\n",
    "* But critical to be aware of this or you will pull all of your hair out trying to track down the ghost in the machine that is magically changing your data...\n",
    "* Below are a few approaches but I suggest using the explict `copy()` approach just to be safe and easy to read"
   ]
  },
  {
   "cell_type": "code",
   "execution_count": null,
   "metadata": {},
   "outputs": [],
   "source": [
    "x = np.random.randn(4,4)\n",
    "\n",
    "# assign a new variable 'z' to x\n",
    "# note this will create a view, not a copy!\n",
    "z = x\n",
    "\n",
    "# change all values in z using [:]\n",
    "z[:]=100     # so if you change data in z it will also change in x\n",
    "\n",
    "# then print x - even though you never \n",
    "# explicitly changed x, changing z modified the shared data\n",
    "print(x)"
   ]
  },
  {
   "cell_type": "markdown",
   "metadata": {},
   "source": [
    "## Use copy instead if you want independent data..."
   ]
  },
  {
   "cell_type": "code",
   "execution_count": null,
   "metadata": {},
   "outputs": [],
   "source": [
    "x = np.random.randn(4,4)\n",
    "\n",
    "# assign using the copy method\n",
    "# this will copy the data in x\n",
    "# and assign to new variable z\n",
    "z = x.copy()\n",
    "\n",
    "# change all values in z using [:]\n",
    "z[:]=100     # so if you change data in z it will also change in x\n",
    "\n",
    "# now they are independent and changing one does not change the other\n",
    "print(x)"
   ]
  }
 ],
 "metadata": {
  "kernelspec": {
   "display_name": "Python 3",
   "language": "python",
   "name": "python3"
  },
  "language_info": {
   "codemirror_mode": {
    "name": "ipython",
    "version": 3
   },
   "file_extension": ".py",
   "mimetype": "text/x-python",
   "name": "python",
   "nbconvert_exporter": "python",
   "pygments_lexer": "ipython3",
   "version": "3.8.8"
  }
 },
 "nbformat": 4,
 "nbformat_minor": 2
}
