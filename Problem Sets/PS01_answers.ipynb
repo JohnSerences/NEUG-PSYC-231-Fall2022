{
 "cells": [
  {
   "cell_type": "markdown",
   "id": "8bf31b98",
   "metadata": {},
   "source": [
    "## Part 1: Indexing\n",
    "\n",
    "This part covers indexing..."
   ]
  },
  {
   "cell_type": "code",
   "execution_count": 9,
   "id": "8f1dfbb1",
   "metadata": {},
   "outputs": [],
   "source": [
    "# For Q0 & Q1, the following lists are provided for you\n",
    "list_1 = [10, 20, 30, 40]\n",
    "list_2 = [13, 15, 17, 19, 21, 23]\n",
    "list_3 = [1, 2, 3, 4, 5, 6, 7, 8, 9, 10, 11]\n",
    "list_4 = [21, 9, 98, 289, 938]"
   ]
  },
  {
   "cell_type": "markdown",
   "id": "34202ccc",
   "metadata": {},
   "source": [
    "### Q0 - Indexing\n",
    "\n",
    "Do the following *using indexing*:\n",
    "- Store the first value in `list_1` to `index_1`\n",
    "- Store the second value from the end of `list_2` to `index_2`\n",
    "- Store the first four values of `list_3` to `index_3`\n",
    "- Store the last four values of `list_4` to `index_4`\n",
    "\n",
    "Note: Values must be stored in the same order they appear in the original list in your output."
   ]
  },
  {
   "cell_type": "code",
   "execution_count": 10,
   "id": "fbc1fa29",
   "metadata": {},
   "outputs": [],
   "source": [
    "# your answer here\n",
    "index_1 = list_1[0]\n",
    "index_2 = list_2[-2]\n",
    "index_3 = list_3[0:4]\n",
    "index_4 = list_4[-4:]"
   ]
  },
  {
   "cell_type": "markdown",
   "id": "5bb500e9",
   "metadata": {},
   "source": [
    "### Q1 - Comparisons using Indexing\n",
    "\n",
    "Do the following comparisons *using indexing*:\n",
    "\n",
    "- Check if the second value of `list_1` is one of the last three values in `list_3` (Hint: remember operator `in`)\n",
    "    - Store the result in `comp_result_1`\n",
    "\n",
    "\n",
    "- Check if the third value of `list_4` is greater than the fourth value in `list_4`\n",
    "    - Store the result in `comp_result_2`\n",
    "\n",
    "\n",
    "- Check if the last value of `list_4` is less than the second value in `list_4`\n",
    "    - Store the result in `comp_result_3`\n",
    "\n",
    "\n",
    "- Check if the second value of `list_2` multiplied by the fifth value of `list_3` is less than the second to last value in `list_4`\n",
    "    - Store the result in `comp_result_4`\n",
    "\n",
    "Keep in mind that you are storing the result of a comparison to a variable, so resulting variables should all be booleans."
   ]
  },
  {
   "cell_type": "code",
   "execution_count": 11,
   "id": "dd5b920e",
   "metadata": {},
   "outputs": [],
   "source": [
    "#your answer here\n",
    "comp_result_1 = list_1[1] in list_3[-3:]\n",
    "comp_result_2 = list_4[2] > list_4[3]\n",
    "comp_result_3 = list_4[-1] < list_4[1]\n",
    "comp_result_4 = (list_2[1]*list_3[4]) < list_4[-2]"
   ]
  },
  {
   "cell_type": "markdown",
   "id": "5d402987",
   "metadata": {},
   "source": [
    "\n",
    "### Q2 - Counting things with dictionaries.\n",
    "\n",
    "Build a dictionary called `word_count` that represents the number of times each word occurred in the list called `word_list` via a for loop.  Note that some of the items in word_list are not words, they are empty strings, so you need to check to see if they 'exist' first before filling up your dictionary! To do this you can use the `not` operator and you can check to see if a word is already in the dictionary using `not in` (there are likely other ways to do this...just some hints!)"
   ]
  },
  {
   "cell_type": "code",
   "execution_count": 3,
   "id": "729c7096",
   "metadata": {},
   "outputs": [],
   "source": [
    "word_list = ['whose', 'woods', 'these', 'are', 'i', 'think', 'i', 'know', 'his', 'house', 'is', 'in', 'the', 'village', 'though', 'he', 'will', 'not', 'see', 'me', 'stopping', 'here', 'to', 'watch', 'his', 'woods', 'fill', 'up', 'with', 'snow', '', 'my', 'little', 'horse', 'must', 'think', 'it', 'queer', 'to', 'stop', 'without', 'a', 'farmhouse', 'near', 'between', 'the', 'woods', 'and', 'frozen', 'lake', 'the', 'darkest', 'evening', 'of', 'the', 'year', '', 'he', 'gives', 'his', 'harness', 'bells', 'a', 'shake', 'to', 'ask', 'if', 'there', 'is', 'some', 'mistake', 'the', 'only', 'other', 'sounds', 'the', 'sweep', 'of', 'easy', 'wind', 'and', 'downy', 'flake', '', 'the', 'woods', 'are', 'lovely', 'dark', 'and', 'deep', 'but', 'i', 'have', 'promises', 'to', 'keep', 'and', 'miles', 'to', 'go', 'before', 'i', 'sleep', 'and', 'miles', 'to', 'go', 'before', 'i', 'sleep']\n"
   ]
  },
  {
   "cell_type": "code",
   "execution_count": 6,
   "id": "12499ee2",
   "metadata": {},
   "outputs": [
    {
     "data": {
      "text/plain": [
       "{'whose': 1,\n",
       " 'woods': 4,\n",
       " 'these': 1,\n",
       " 'are': 2,\n",
       " 'i': 5,\n",
       " 'think': 2,\n",
       " 'know': 1,\n",
       " 'his': 3,\n",
       " 'house': 1,\n",
       " 'is': 2,\n",
       " 'in': 1,\n",
       " 'the': 7,\n",
       " 'village': 1,\n",
       " 'though': 1,\n",
       " 'he': 2,\n",
       " 'will': 1,\n",
       " 'not': 1,\n",
       " 'see': 1,\n",
       " 'me': 1,\n",
       " 'stopping': 1,\n",
       " 'here': 1,\n",
       " 'to': 6,\n",
       " 'watch': 1,\n",
       " 'fill': 1,\n",
       " 'up': 1,\n",
       " 'with': 1,\n",
       " 'snow': 1,\n",
       " 'my': 1,\n",
       " 'little': 1,\n",
       " 'horse': 1,\n",
       " 'must': 1,\n",
       " 'it': 1,\n",
       " 'queer': 1,\n",
       " 'stop': 1,\n",
       " 'without': 1,\n",
       " 'a': 2,\n",
       " 'farmhouse': 1,\n",
       " 'near': 1,\n",
       " 'between': 1,\n",
       " 'and': 5,\n",
       " 'frozen': 1,\n",
       " 'lake': 1,\n",
       " 'darkest': 1,\n",
       " 'evening': 1,\n",
       " 'of': 2,\n",
       " 'year': 1,\n",
       " 'gives': 1,\n",
       " 'harness': 1,\n",
       " 'bells': 1,\n",
       " 'shake': 1,\n",
       " 'ask': 1,\n",
       " 'if': 1,\n",
       " 'there': 1,\n",
       " 'some': 1,\n",
       " 'mistake': 1,\n",
       " 'only': 1,\n",
       " 'other': 1,\n",
       " 'sounds': 1,\n",
       " 'sweep': 1,\n",
       " 'easy': 1,\n",
       " 'wind': 1,\n",
       " 'downy': 1,\n",
       " 'flake': 1,\n",
       " 'lovely': 1,\n",
       " 'dark': 1,\n",
       " 'deep': 1,\n",
       " 'but': 1,\n",
       " 'have': 1,\n",
       " 'promises': 1,\n",
       " 'keep': 1,\n",
       " 'miles': 2,\n",
       " 'go': 2,\n",
       " 'before': 2,\n",
       " 'sleep': 2}"
      ]
     },
     "execution_count": 6,
     "metadata": {},
     "output_type": "execute_result"
    }
   ],
   "source": [
    "# your answer here\n",
    "word_count = {}\n",
    "for w in word_list:\n",
    "    \n",
    "    if not w:\n",
    "        continue\n",
    "    if w not in word_count:\n",
    "        word_count[w] = 0\n",
    "        \n",
    "    word_count[w] += 1\n",
    "\n",
    "word_count"
   ]
  },
  {
   "cell_type": "markdown",
   "id": "45b90e36",
   "metadata": {},
   "source": [
    "### Q3 - most common words\n",
    "\n",
    "In Q2 you made a dictionary of word counts (called `word_count`).  Here, please find the most common word in that dictionary, and store it in the variable called `most_common`.  Do not hard-code the answer!  Your code should get the correct answer even if the contents of `word_count` were different."
   ]
  },
  {
   "cell_type": "code",
   "execution_count": 7,
   "id": "f1457036",
   "metadata": {},
   "outputs": [
    {
     "name": "stdout",
     "output_type": "stream",
     "text": [
      "Max Count: 7, Most common: the\n"
     ]
    }
   ],
   "source": [
    "# your answer here\n",
    "max_count = 0\n",
    "most_common = ''\n",
    "for k,v in word_count.items():\n",
    "    if v > max_count:\n",
    "        max_count = v\n",
    "        most_common = k\n",
    "\n",
    "print(f'Max Count: {max_count}, Most common: {most_common}')"
   ]
  },
  {
   "cell_type": "markdown",
   "id": "06893777",
   "metadata": {},
   "source": [
    "### Q4 - Import numpy, then make an array of the first 12 even numbers with shape (2, 6). Print the resulting array following each step below. Use np.arange to make the sequence...\n",
    "\n",
    "* Make every other value of the second row odd by subtracting 1 from it.\n",
    "* Reverse the entries (columns) in the first row.\n",
    "* Make the last value of the entire array the sum of all the other numbers beside the last value.\n",
    "* Normalize the first row to have unit area (area of 1) by dividing each number by the sum of the first row and then overwriting the original contents of the first row with the normalized values. \n",
    "    * Did it work? or did you get a row of 0's after you normalized?\n",
    "    * If you got a row of zeros, how would you change your original input parameters to np.arange in part 1 to make it work? think about the properties of different numerical data types..."
   ]
  },
  {
   "cell_type": "code",
   "execution_count": 8,
   "id": "4c0a6202",
   "metadata": {},
   "outputs": [
    {
     "name": "stdout",
     "output_type": "stream",
     "text": [
      "[[ 2.  4.  6.  8. 10. 12.]\n",
      " [14. 16. 18. 20. 22. 24.]]\n",
      "[[ 2.  4.  6.  8. 10. 12.]\n",
      " [13. 16. 17. 20. 21. 24.]]\n",
      "[[12. 10.  8.  6.  4.  2.]\n",
      " [13. 16. 17. 20. 21. 24.]]\n",
      "[[ 12.  10.   8.   6.   4.   2.]\n",
      " [ 13.  16.  17.  20.  21. 129.]]\n",
      "[[2.85714286e-01 2.38095238e-01 1.90476190e-01 1.42857143e-01\n",
      "  9.52380952e-02 4.76190476e-02]\n",
      " [1.30000000e+01 1.60000000e+01 1.70000000e+01 2.00000000e+01\n",
      "  2.10000000e+01 1.29000000e+02]]\n"
     ]
    }
   ],
   "source": [
    "# your answer here\n",
    "import numpy as np\n",
    "\n",
    "N = 12     # make a variable for how many even numbers you want so the routine is more flexible....not neccessary\n",
    "\n",
    "# init first with int 0, then try 0.0 so that you get a float array...other ways to do this \n",
    "# by changing dtype upon creation\n",
    "even = np.arange(0.0, N * 2, 2).reshape(2, 6) + 2  # + 2 because 0 isn't even...\n",
    "print(even)\n",
    "\n",
    "# then make every other entry in the 2nd row odd...\n",
    "even[1, ::2] -= 1\n",
    "print(even)\n",
    "\n",
    "# reverse the first row\n",
    "even[0, :] = even[0, ::-1]\n",
    "print(even)\n",
    "\n",
    "# # make last value of the entire array the sum of all the other numbers excluding the last number\n",
    "even[-1, -1] = np.sum(even) - even[-1, -1]\n",
    "print(even)\n",
    "\n",
    "# normalize each column of the array so that they sum to 1\n",
    "even[0,:] = even[0,:] / np.sum(even[0,:],axis=0)\n",
    "print(even)"
   ]
  }
 ],
 "metadata": {
  "kernelspec": {
   "display_name": "Python 3",
   "language": "python",
   "name": "python3"
  },
  "language_info": {
   "codemirror_mode": {
    "name": "ipython",
    "version": 3
   },
   "file_extension": ".py",
   "mimetype": "text/x-python",
   "name": "python",
   "nbconvert_exporter": "python",
   "pygments_lexer": "ipython3",
   "version": "3.8.8"
  }
 },
 "nbformat": 4,
 "nbformat_minor": 5
}
