{
 "cells": [
  {
   "cell_type": "markdown",
   "id": "b2e7156d",
   "metadata": {},
   "source": [
    "# While loops"
   ]
  },
  {
   "cell_type": "code",
   "execution_count": null,
   "id": "5845d725",
   "metadata": {},
   "outputs": [],
   "source": [
    "for each_thing in a_set_of_things:\n",
    "    print(each_thing)"
   ]
  },
  {
   "cell_type": "code",
   "execution_count": null,
   "id": "637a8fad",
   "metadata": {},
   "outputs": [],
   "source": [
    "# syntax...\n",
    "while condition:\n",
    "    do stuff\n",
    "    "
   ]
  },
  {
   "cell_type": "code",
   "execution_count": null,
   "id": "3f7e507a",
   "metadata": {},
   "outputs": [],
   "source": [
    "number = 10\n",
    "\n",
    "while number >= 0:\n",
    "    print(number)\n",
    "    number -= 1 # number = number - 1"
   ]
  },
  {
   "cell_type": "code",
   "execution_count": null,
   "id": "33a5cc3c",
   "metadata": {},
   "outputs": [],
   "source": [
    "getting_user_input = True\n",
    "\n",
    "while getting_user_input:\n",
    "    if they enter their name correctly:\n",
    "        getting_user_input = False\n",
    "    \n",
    "    \n",
    "    "
   ]
  },
  {
   "cell_type": "code",
   "execution_count": 2,
   "id": "c4f3180d",
   "metadata": {},
   "outputs": [
    {
     "name": "stdout",
     "output_type": "stream",
     "text": [
      "abcdefg\n",
      "[0, 1, 1.4142135623730951]\n"
     ]
    }
   ],
   "source": [
    "alphabet = 'abcdefg'\n",
    "nums = [ 0, 1, 2**(1/2) ]\n",
    "print(alphabet)\n",
    "print(nums)"
   ]
  },
  {
   "cell_type": "code",
   "execution_count": null,
   "id": "fd862992",
   "metadata": {},
   "outputs": [],
   "source": []
  },
  {
   "cell_type": "code",
   "execution_count": 4,
   "id": "30195552",
   "metadata": {},
   "outputs": [
    {
     "data": {
      "text/plain": [
       "3"
      ]
     },
     "execution_count": 4,
     "metadata": {},
     "output_type": "execute_result"
    }
   ],
   "source": [
    "len(alphabet)\n",
    "len(nums)"
   ]
  },
  {
   "cell_type": "code",
   "execution_count": null,
   "id": "5524b884",
   "metadata": {},
   "outputs": [],
   "source": [
    "for each_num in range(len(nums)):\n",
    "    "
   ]
  },
  {
   "cell_type": "code",
   "execution_count": 5,
   "id": "9996966e",
   "metadata": {},
   "outputs": [
    {
     "name": "stdout",
     "output_type": "stream",
     "text": [
      "0\n",
      "1\n",
      "1.4142135623730951\n"
     ]
    }
   ],
   "source": [
    "for each_num in nums:\n",
    "    print(each_num)"
   ]
  },
  {
   "cell_type": "code",
   "execution_count": 11,
   "id": "45cc39a1",
   "metadata": {},
   "outputs": [
    {
     "data": {
      "text/plain": [
       "True"
      ]
     },
     "execution_count": 11,
     "metadata": {},
     "output_type": "execute_result"
    }
   ],
   "source": [
    "'abc' in alphabet\n"
   ]
  },
  {
   "cell_type": "markdown",
   "id": "ca89aac4",
   "metadata": {},
   "source": [
    "## indexing"
   ]
  },
  {
   "cell_type": "code",
   "execution_count": 14,
   "id": "df3a2992",
   "metadata": {},
   "outputs": [],
   "source": [
    "nums = [0, 2, 3, 4, 6, 18]"
   ]
  },
  {
   "cell_type": "code",
   "execution_count": 18,
   "id": "7453e477",
   "metadata": {},
   "outputs": [
    {
     "data": {
      "text/plain": [
       "4"
      ]
     },
     "execution_count": 18,
     "metadata": {},
     "output_type": "execute_result"
    }
   ],
   "source": [
    "nums[-3]"
   ]
  },
  {
   "cell_type": "markdown",
   "id": "b94cf0af",
   "metadata": {},
   "source": [
    "## slicing"
   ]
  },
  {
   "cell_type": "code",
   "execution_count": 24,
   "id": "8e65e98f",
   "metadata": {},
   "outputs": [
    {
     "data": {
      "text/plain": [
       "[18, 6, 4, 3, 2, 0]"
      ]
     },
     "execution_count": 24,
     "metadata": {},
     "output_type": "execute_result"
    }
   ],
   "source": [
    "nums[1::2]\n",
    "nums[::-1]"
   ]
  },
  {
   "cell_type": "markdown",
   "id": "d64951e2",
   "metadata": {},
   "source": [
    "## concatenation"
   ]
  },
  {
   "cell_type": "code",
   "execution_count": 27,
   "id": "ba37b16e",
   "metadata": {},
   "outputs": [
    {
     "data": {
      "text/plain": [
       "'abcdefg hi bob abcdefg'"
      ]
     },
     "execution_count": 27,
     "metadata": {},
     "output_type": "execute_result"
    }
   ],
   "source": [
    "alphabet + ' hi bob ' + alphabet"
   ]
  },
  {
   "cell_type": "markdown",
   "id": "c4a8395c",
   "metadata": {},
   "source": [
    "## f strings"
   ]
  },
  {
   "cell_type": "code",
   "execution_count": 34,
   "id": "31d839ad",
   "metadata": {},
   "outputs": [
    {
     "name": "stdout",
     "output_type": "stream",
     "text": [
      "daniela is 25 years old\n"
     ]
    }
   ],
   "source": [
    "age = 25\n",
    "name = 'daniela'\n",
    "\n",
    "str(age) + name\n",
    "\n",
    "my_new_string = f'{name} is {age} years old'\n",
    "\n",
    "print(my_new_string)"
   ]
  },
  {
   "cell_type": "code",
   "execution_count": 38,
   "id": "79588a8d",
   "metadata": {},
   "outputs": [
    {
     "name": "stdout",
     "output_type": "stream",
     "text": [
      "DANIELA\n",
      "Daniela\n"
     ]
    }
   ],
   "source": [
    "print( name.upper() )\n",
    "print( name.title() )"
   ]
  },
  {
   "cell_type": "code",
   "execution_count": 39,
   "id": "8d989faf",
   "metadata": {},
   "outputs": [
    {
     "data": {
      "text/plain": [
       "False"
      ]
     },
     "execution_count": 39,
     "metadata": {},
     "output_type": "execute_result"
    }
   ],
   "source": [
    "name.istitle()"
   ]
  },
  {
   "cell_type": "code",
   "execution_count": 44,
   "id": "27bf4cbd",
   "metadata": {},
   "outputs": [
    {
     "data": {
      "text/plain": [
       "'hi,my,name,is,john'"
      ]
     },
     "execution_count": 44,
     "metadata": {},
     "output_type": "execute_result"
    }
   ],
   "source": [
    "text = 'hi,my,name,is,john'\n",
    "lst = text.split(',')\n",
    "lst\n",
    "\n",
    "# join\n",
    "str_join = ','.join(lst)\n",
    "str_join"
   ]
  },
  {
   "cell_type": "code",
   "execution_count": 46,
   "id": "096550da",
   "metadata": {},
   "outputs": [
    {
     "data": {
      "text/plain": [
       "['hi', 'is', 'john', 'my', 'name']"
      ]
     },
     "execution_count": 46,
     "metadata": {},
     "output_type": "execute_result"
    }
   ],
   "source": [
    "# in place\n",
    "lst.sort()\n",
    "lst"
   ]
  },
  {
   "cell_type": "code",
   "execution_count": 49,
   "id": "c7b0402d",
   "metadata": {},
   "outputs": [
    {
     "name": "stdout",
     "output_type": "stream",
     "text": [
      "[1, 2, 4, 5]\n",
      "[4, 2, 1, 5]\n"
     ]
    }
   ],
   "source": [
    "lst = [4,2,1,5]\n",
    "sorted_lst = sorted(lst)\n",
    "print(sorted_lst)\n",
    "print(lst)"
   ]
  },
  {
   "cell_type": "code",
   "execution_count": 51,
   "id": "d5c753dd",
   "metadata": {},
   "outputs": [
    {
     "data": {
      "text/plain": [
       "(0, 1, 2)"
      ]
     },
     "execution_count": 51,
     "metadata": {},
     "output_type": "execute_result"
    }
   ],
   "source": [
    "my_tuples = (0,1,2,3,4,5,6)\n",
    "my_tuples[0:3]"
   ]
  },
  {
   "cell_type": "code",
   "execution_count": 52,
   "id": "923ba0bc",
   "metadata": {},
   "outputs": [
    {
     "ename": "TypeError",
     "evalue": "'tuple' object does not support item assignment",
     "output_type": "error",
     "traceback": [
      "\u001b[0;31m---------------------------------------------------------------------------\u001b[0m",
      "\u001b[0;31mTypeError\u001b[0m                                 Traceback (most recent call last)",
      "\u001b[0;32m/var/folders/8y/scw4yk6d3g99kqbs49wp8q3r0000gn/T/ipykernel_7827/2592892611.py\u001b[0m in \u001b[0;36m<module>\u001b[0;34m\u001b[0m\n\u001b[0;32m----> 1\u001b[0;31m \u001b[0mmy_tuples\u001b[0m\u001b[0;34m[\u001b[0m\u001b[0;36m0\u001b[0m\u001b[0;34m]\u001b[0m \u001b[0;34m=\u001b[0m \u001b[0;36m10\u001b[0m\u001b[0;34m\u001b[0m\u001b[0;34m\u001b[0m\u001b[0m\n\u001b[0m",
      "\u001b[0;31mTypeError\u001b[0m: 'tuple' object does not support item assignment"
     ]
    }
   ],
   "source": [
    "my_tuples[0] = 10"
   ]
  },
  {
   "cell_type": "code",
   "execution_count": 57,
   "id": "3527715b",
   "metadata": {},
   "outputs": [
    {
     "data": {
      "text/plain": [
       "3"
      ]
     },
     "execution_count": 57,
     "metadata": {},
     "output_type": "execute_result"
    }
   ],
   "source": [
    "lst_in_lst = [0,1,2,3, [1,3,4,5]]\n",
    "lst_in_lst[-1][1]"
   ]
  },
  {
   "cell_type": "markdown",
   "id": "c4057bf5",
   "metadata": {},
   "source": [
    "## Dictionaries"
   ]
  },
  {
   "cell_type": "code",
   "execution_count": 66,
   "id": "d9a711f9",
   "metadata": {},
   "outputs": [
    {
     "data": {
      "text/plain": [
       "{'NEUG231': 'Programming', 'NEUG200A': 'Basket Weaving'}"
      ]
     },
     "execution_count": 66,
     "metadata": {},
     "output_type": "execute_result"
    }
   ],
   "source": [
    "d = {}\n",
    "# d = dict()\n",
    "\n",
    "d['NEUG231'] = 'Programming'\n",
    "d['NEUG200A'] = 'Basket Weaving'\n",
    "\n",
    "d"
   ]
  },
  {
   "cell_type": "code",
   "execution_count": 64,
   "id": "560985fc",
   "metadata": {},
   "outputs": [],
   "source": [
    "del d['NEUG231']\n"
   ]
  },
  {
   "cell_type": "code",
   "execution_count": 67,
   "id": "9a5fe725",
   "metadata": {},
   "outputs": [
    {
     "data": {
      "text/plain": [
       "True"
      ]
     },
     "execution_count": 67,
     "metadata": {},
     "output_type": "execute_result"
    }
   ],
   "source": [
    "'NEUG231' in d"
   ]
  },
  {
   "cell_type": "code",
   "execution_count": 68,
   "id": "4dd674f6",
   "metadata": {},
   "outputs": [
    {
     "name": "stdout",
     "output_type": "stream",
     "text": [
      "NEUG231\n",
      "NEUG200A\n"
     ]
    }
   ],
   "source": [
    "for each_key in d.keys():\n",
    "    print(each_key)"
   ]
  },
  {
   "cell_type": "code",
   "execution_count": 69,
   "id": "2de332cc",
   "metadata": {},
   "outputs": [
    {
     "name": "stdout",
     "output_type": "stream",
     "text": [
      "Programming\n",
      "Basket Weaving\n"
     ]
    }
   ],
   "source": [
    "for each_val in d.values():\n",
    "    print(each_val)"
   ]
  },
  {
   "cell_type": "code",
   "execution_count": 70,
   "id": "0a7e7894",
   "metadata": {},
   "outputs": [
    {
     "name": "stdout",
     "output_type": "stream",
     "text": [
      "Key is NEUG231, value is Programming\n",
      "Key is NEUG200A, value is Basket Weaving\n"
     ]
    }
   ],
   "source": [
    "# tuple unpacking\n",
    "for k,v in d.items():\n",
    "    print(f'Key is {k}, value is {v}')\n",
    "    "
   ]
  },
  {
   "cell_type": "code",
   "execution_count": null,
   "id": "e07bb5d7",
   "metadata": {},
   "outputs": [],
   "source": [
    "d = {'NEUG231': 'Programming', 'NEUG200A': 'Basket Weaving'}"
   ]
  },
  {
   "cell_type": "code",
   "execution_count": 71,
   "id": "6a3d3837",
   "metadata": {},
   "outputs": [
    {
     "data": {
      "text/plain": [
       "{'john': 0, 'leah': 0, 'daniela': 0}"
      ]
     },
     "execution_count": 71,
     "metadata": {},
     "output_type": "execute_result"
    }
   ],
   "source": [
    "word_list = ['john', 'leah', 'daniela']\n",
    "\n",
    "word_d = {}\n",
    "\n",
    "for each_word in word_list:\n",
    "    word_d[each_word] = 0\n",
    "    \n",
    "word_d"
   ]
  },
  {
   "cell_type": "markdown",
   "id": "b780de9a",
   "metadata": {},
   "source": [
    "## numpy"
   ]
  },
  {
   "cell_type": "code",
   "execution_count": 72,
   "id": "e84b2ad7",
   "metadata": {},
   "outputs": [],
   "source": [
    "import numpy as np"
   ]
  },
  {
   "cell_type": "code",
   "execution_count": 79,
   "id": "6e699260",
   "metadata": {},
   "outputs": [
    {
     "data": {
      "text/plain": [
       "array([[0, 5],\n",
       "       [1, 6],\n",
       "       [2, 7],\n",
       "       [3, 8],\n",
       "       [4, 9]])"
      ]
     },
     "execution_count": 79,
     "metadata": {},
     "output_type": "execute_result"
    }
   ],
   "source": [
    "my_arr = np.arange(0,10).reshape(2,5)\n",
    "my_arr.T"
   ]
  },
  {
   "cell_type": "code",
   "execution_count": 80,
   "id": "0755226a",
   "metadata": {},
   "outputs": [
    {
     "data": {
      "text/plain": [
       "array([1, 2, 3, 4, 5, 5])"
      ]
     },
     "execution_count": 80,
     "metadata": {},
     "output_type": "execute_result"
    }
   ],
   "source": [
    "x = np.array([1,2,3,4,5,5])\n",
    "x"
   ]
  },
  {
   "cell_type": "code",
   "execution_count": 84,
   "id": "14558b74",
   "metadata": {},
   "outputs": [
    {
     "data": {
      "text/plain": [
       "array([[1., 1., 1., 1., 1., 1., 1., 1., 1., 1.],\n",
       "       [1., 1., 1., 1., 1., 1., 1., 1., 1., 1.],\n",
       "       [1., 1., 1., 1., 1., 1., 1., 1., 1., 1.],\n",
       "       [1., 1., 1., 1., 1., 1., 1., 1., 1., 1.],\n",
       "       [1., 1., 1., 1., 1., 1., 1., 1., 1., 1.],\n",
       "       [1., 1., 1., 1., 1., 1., 1., 1., 1., 1.],\n",
       "       [1., 1., 1., 1., 1., 1., 1., 1., 1., 1.],\n",
       "       [1., 1., 1., 1., 1., 1., 1., 1., 1., 1.],\n",
       "       [1., 1., 1., 1., 1., 1., 1., 1., 1., 1.],\n",
       "       [1., 1., 1., 1., 1., 1., 1., 1., 1., 1.]])"
      ]
     },
     "execution_count": 84,
     "metadata": {},
     "output_type": "execute_result"
    }
   ],
   "source": [
    "x = np.zeros( (10,10) )\n",
    "x = np.ones( (10,10) )\n",
    "\n",
    "x"
   ]
  },
  {
   "cell_type": "code",
   "execution_count": 90,
   "id": "a17ae583",
   "metadata": {},
   "outputs": [
    {
     "name": "stdout",
     "output_type": "stream",
     "text": [
      "[0.31828593 0.45485774 0.46118697 0.55692324 0.1448127  0.66538391\n",
      " 0.60434344 0.94077375 0.05047055        nan]\n"
     ]
    }
   ],
   "source": [
    "x = np.full( 10, np.nan )\n",
    "# x = np.zeros(10)\n",
    "x\n",
    "for i in range(9):\n",
    "    x[i] = np.random.random()\n",
    "    \n",
    "print(x)"
   ]
  },
  {
   "cell_type": "code",
   "execution_count": 96,
   "id": "a9bb2d71",
   "metadata": {},
   "outputs": [
    {
     "data": {
      "text/plain": [
       "0.47874116945766154"
      ]
     },
     "execution_count": 96,
     "metadata": {},
     "output_type": "execute_result"
    }
   ],
   "source": [
    "x = np.random.random(10).\n",
    "x.max()\n",
    "x.mean()"
   ]
  },
  {
   "cell_type": "code",
   "execution_count": 101,
   "id": "b10597c0",
   "metadata": {},
   "outputs": [
    {
     "name": "stdout",
     "output_type": "stream",
     "text": [
      "[[0.55075    0.47954951 0.78148263 0.15225381 0.99305095]\n",
      " [0.37770865 0.21145945 0.71097444 0.38758972 0.24164303]]\n"
     ]
    },
    {
     "data": {
      "text/plain": [
       "array([0.59141738, 0.38587506])"
      ]
     },
     "execution_count": 101,
     "metadata": {},
     "output_type": "execute_result"
    }
   ],
   "source": [
    "x = np.random.random(10).reshape(2,5)\n",
    "print(x)\n",
    "np.mean(x, axis = 1)\n"
   ]
  },
  {
   "cell_type": "code",
   "execution_count": 111,
   "id": "4021b450",
   "metadata": {},
   "outputs": [
    {
     "name": "stdout",
     "output_type": "stream",
     "text": [
      "[[0.73047861 0.43748722 0.55537674 0.71616494 0.44288773]\n",
      " [0.52003529 0.46598731 0.3639782  0.52382459 0.34648347]]\n"
     ]
    },
    {
     "data": {
      "text/plain": [
       "array([0.73047861, 0.55537674, 0.44288773])"
      ]
     },
     "execution_count": 111,
     "metadata": {},
     "output_type": "execute_result"
    }
   ],
   "source": [
    "x = np.random.random(10).reshape(2,5)\n",
    "print(x)"
   ]
  },
  {
   "cell_type": "code",
   "execution_count": 91,
   "id": "f13d3a51",
   "metadata": {},
   "outputs": [
    {
     "ename": "ValueError",
     "evalue": "you messed up and there are nans in your data!",
     "output_type": "error",
     "traceback": [
      "\u001b[0;31m---------------------------------------------------------------------------\u001b[0m",
      "\u001b[0;31mValueError\u001b[0m                                Traceback (most recent call last)",
      "\u001b[0;32m/var/folders/8y/scw4yk6d3g99kqbs49wp8q3r0000gn/T/ipykernel_7827/1234123748.py\u001b[0m in \u001b[0;36m<module>\u001b[0;34m\u001b[0m\n\u001b[1;32m      1\u001b[0m \u001b[0;32mif\u001b[0m \u001b[0mnp\u001b[0m\u001b[0;34m.\u001b[0m\u001b[0many\u001b[0m\u001b[0;34m(\u001b[0m\u001b[0mnp\u001b[0m\u001b[0;34m.\u001b[0m\u001b[0misnan\u001b[0m\u001b[0;34m(\u001b[0m\u001b[0mx\u001b[0m\u001b[0;34m)\u001b[0m\u001b[0;34m)\u001b[0m\u001b[0;34m:\u001b[0m\u001b[0;34m\u001b[0m\u001b[0;34m\u001b[0m\u001b[0m\n\u001b[0;32m----> 2\u001b[0;31m     \u001b[0;32mraise\u001b[0m \u001b[0mValueError\u001b[0m\u001b[0;34m(\u001b[0m\u001b[0;34m'you messed up and there are nans in your data!'\u001b[0m\u001b[0;34m)\u001b[0m\u001b[0;34m\u001b[0m\u001b[0;34m\u001b[0m\u001b[0m\n\u001b[0m",
      "\u001b[0;31mValueError\u001b[0m: you messed up and there are nans in your data!"
     ]
    }
   ],
   "source": [
    "if np.any(np.isnan(x)):\n",
    "    raise ValueError('you messed up and there are nans in your data!')"
   ]
  }
 ],
 "metadata": {
  "kernelspec": {
   "display_name": "Python 3 (ipykernel)",
   "language": "python",
   "name": "python3"
  },
  "language_info": {
   "codemirror_mode": {
    "name": "ipython",
    "version": 3
   },
   "file_extension": ".py",
   "mimetype": "text/x-python",
   "name": "python",
   "nbconvert_exporter": "python",
   "pygments_lexer": "ipython3",
   "version": "3.9.7"
  }
 },
 "nbformat": 4,
 "nbformat_minor": 5
}
