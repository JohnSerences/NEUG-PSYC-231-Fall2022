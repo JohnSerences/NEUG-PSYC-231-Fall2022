{
 "cells": [
  {
   "cell_type": "markdown",
   "id": "de3f7c37",
   "metadata": {},
   "source": [
    "# Problem set 00\n",
    "* Markdown, basic syntax, control flow, looping\n",
    "* js (jserences@ucsd.edu), Fall 2022 for NEUG/PSYC 231"
   ]
  },
  {
   "cell_type": "markdown",
   "id": "4bfa5e58",
   "metadata": {},
   "source": [
    "### 0: Markdown cells\n",
    "\n",
    "- Convert the cell immediately below this one from a code cell to a markdown cell.\n",
    "- Write a Level 3 heading with your name.\n",
    "- Below that create a bulleted list that states your grad program (or major), your favorite food, and a hobby.\n",
    "- Finally, write out the sentence: “I can learn to code and I will be excellent at it!” with the following formatting:\n",
    "     - the word “can” should be in bold\n",
    "     - the word \"excellent\" should be in italics\n",
    "     - the word \"code\" should be a link to `https://www.python.org`"
   ]
  },
  {
   "cell_type": "code",
   "execution_count": 1,
   "id": "8d795473",
   "metadata": {},
   "outputs": [],
   "source": []
  },
  {
   "cell_type": "markdown",
   "id": "d324c050",
   "metadata": {},
   "source": [
    "### 1: Variables and Arithmetic\n",
    "\n",
    "In the cell below,\n",
    "- assign `4` to the integer variable `x`,\n",
    "- assign the square root of 3 to the variable `y` (remember taking the square root is the same as raising to the power of 1/2: $\\sqrt{a}=a^{0.5}$)\n",
    "- assign the sum of `x` and `y` to the variable `xy_sum`\n",
    "- assign the product of `x` and `y` to the variable `xy_prod`\n",
    "- and then confirm that this was successful by checking the type using both the `type` function and the `isinstance` function\n",
    "- convert `xy_prod` to an `int` using typecasting...what happens to the value? (i.e. what information do you lose?) "
   ]
  },
  {
   "cell_type": "code",
   "execution_count": null,
   "id": "3788125a",
   "metadata": {},
   "outputs": [],
   "source": [
    "# your answer here"
   ]
  },
  {
   "cell_type": "markdown",
   "id": "76a98093",
   "metadata": {},
   "source": [
    "### 2: types and operators\n",
    "\n",
    "The variables `x` and `y` are set for you in the next cell - do not modify them but run that cell.\n",
    "Then use only the variables `x` and `y`, the functions `int()`, `str()` and the operators `+` and `*` to make the following variables have these types and values:\n",
    "- `A` (float) 8.0\n",
    "- `B` (int) 15\n",
    "- `C` (str) 33333\n",
    "- `D` (str) 53\n",
    "- `E` (int) 33"
   ]
  },
  {
   "cell_type": "code",
   "execution_count": null,
   "id": "edb6df3d",
   "metadata": {},
   "outputs": [],
   "source": [
    "x = '3'\n",
    "y = 5.0"
   ]
  },
  {
   "cell_type": "code",
   "execution_count": null,
   "id": "86f77825",
   "metadata": {},
   "outputs": [],
   "source": [
    "# your answer here"
   ]
  },
  {
   "cell_type": "markdown",
   "id": "e581636e",
   "metadata": {},
   "source": [
    "### 3: filter list\n",
    "\n",
    "- make a list `multiples_of_2_or_3` which contains all the numbers between 1 and 100 that are either multiples of 2 or multiples of 3 using a combination of a `for` loop with a `if` conditional inside the loop.\n",
    "- start by initializing an empty list, then fill it up in the loop using the `append` method of a list\n",
    "- To figure out if a number is evenly divisible by 2 or 3 use the `%` (mod) operator. The `%` operator returns the remainder after division, and if a number is evenly divisible by 2 (for example) then the result of that number `%` 2 will be 0!"
   ]
  },
  {
   "cell_type": "code",
   "execution_count": null,
   "id": "eae03a5b",
   "metadata": {},
   "outputs": [],
   "source": [
    "# your answer here"
   ]
  },
  {
   "cell_type": "markdown",
   "id": "2983546b",
   "metadata": {},
   "source": [
    "### 4 FizzBuzz list\n",
    "\n",
    "FizzBuzz is a canonical programming challenge involving looping, conditionals, and comparisons.  The goal is to implement the kids' game [\"Fizz Buzz\"](https://en.wikipedia.org/wiki/Fizz_buzz):  Count up from 1.  For each number, if it is divisible by 3 say \"Fizz\", if it is divisible by 5 say \"Buzz\", (thus say \"FizzBuzz\" for numbers divisible by 15).  For all other numbers, just say that number.\n",
    "\n",
    "Use a `for` loop, `if..elif...else` statements, to build a list variable with the name `fizzbuzz`.\n",
    "- the list should contain the numbers 1 through 100, in order except:\n",
    "- any number that is a multiple of 3 should be replaced with the string \"Fizz\"\n",
    "- any number that is a multiple of 5 should be replaced with the string \"Buzz\"\n",
    "- any number that is a multiple of 3 and 5 (i.e. a multiple of 15) should be replaced with \"FizzBuzz\"\n",
    "\n",
    "Here is a table of sample output (only going up to the number 16):\n",
    "\n",
    "| **n** | **result** |\n",
    "| ------|-----------|\n",
    "| 1 | 1 | \n",
    "| 2 | 2 |\n",
    "| 3 | \"Fizz\" |\n",
    "| 4 | 4 |\n",
    "| 5 | \"Buzz\" |\n",
    "| 6 | \"Fizz\" | \n",
    "| 7 | 7 | \n",
    "| ... | ... | \n",
    "| 14 | 14 | \n",
    "| 15 | \"FizzBuzz\" |\n",
    "| 16 | 16 |  "
   ]
  },
  {
   "cell_type": "code",
   "execution_count": null,
   "id": "d452184f",
   "metadata": {},
   "outputs": [],
   "source": [
    "# your answer here"
   ]
  },
  {
   "cell_type": "markdown",
   "id": "01321065",
   "metadata": {},
   "source": [
    "### Challenge question: \n",
    "\n",
    "It is possible to solve the FizzBuzz challenge by writing a function which uses no conditional logic at all, but which uses math to separate integers into 4 possible categories: \n",
    "\n",
    "    Those which have 3 as a factor, but not 5\n",
    "    Those which have 5 as a factor, but not 3\n",
    "    Those which have both 3 and 5 as a factor\n",
    "    Those which have neither 3 nor 5 as factors\n",
    "\n",
    "(Note - I just ran across this today, and it seems kind of fun, but challenging!)\n",
    "\n",
    "[explanation here](http://philcrissman.net/posts/eulers-fizzbuzz/)\n"
   ]
  },
  {
   "cell_type": "code",
   "execution_count": null,
   "id": "914c9d5c",
   "metadata": {},
   "outputs": [],
   "source": [
    "# your answer here"
   ]
  }
 ],
 "metadata": {
  "kernelspec": {
   "display_name": "Python 3",
   "language": "python",
   "name": "python3"
  },
  "language_info": {
   "codemirror_mode": {
    "name": "ipython",
    "version": 3
   },
   "file_extension": ".py",
   "mimetype": "text/x-python",
   "name": "python",
   "nbconvert_exporter": "python",
   "pygments_lexer": "ipython3",
   "version": "3.8.8"
  }
 },
 "nbformat": 4,
 "nbformat_minor": 5
}
