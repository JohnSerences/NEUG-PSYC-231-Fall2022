{
 "cells": [
  {
   "cell_type": "markdown",
   "id": "8bf31b98",
   "metadata": {},
   "source": [
    "## Part 1: Indexing\n",
    "\n",
    "* js (jserences@ucsd.edu) for NEUG/PSYC231 Fall 2022"
   ]
  },
  {
   "cell_type": "code",
   "execution_count": 1,
   "id": "8f1dfbb1",
   "metadata": {},
   "outputs": [],
   "source": [
    "# For Q0 & Q1, the following lists are provided for you\n",
    "list_1 = [10, 20, 30, 40]\n",
    "list_2 = [13, 15, 17, 19, 21, 23]\n",
    "list_3 = [1, 2, 3, 4, 5, 6, 7, 8, 9, 10, 11]\n",
    "list_4 = [21, 9, 98, 289, 938]"
   ]
  },
  {
   "cell_type": "markdown",
   "id": "34202ccc",
   "metadata": {},
   "source": [
    "### Q0 - Indexing\n",
    "\n",
    "Do the following *using indexing*:\n",
    "- Store the first value in `list_1` to `index_1`\n",
    "- Store the second value from the end of `list_2` to `index_2`\n",
    "- Store the first four values of `list_3` to `index_3`\n",
    "- Store the last four values of `list_4` to `index_4`\n",
    "\n",
    "Note: Values must be stored in the same order they appear in the original list in your output."
   ]
  },
  {
   "cell_type": "code",
   "execution_count": null,
   "id": "fbc1fa29",
   "metadata": {},
   "outputs": [],
   "source": [
    "# your answer here\n"
   ]
  },
  {
   "cell_type": "markdown",
   "id": "5bb500e9",
   "metadata": {},
   "source": [
    "### Q1 - Comparisons using Indexing\n",
    "\n",
    "Do the following comparisons *using indexing*:\n",
    "\n",
    "- Check if the second value of `list_1` is one of the last three values in `list_3` (Hint: remember operator `in`)\n",
    "    - Store the result in `comp_result_1`\n",
    "\n",
    "\n",
    "- Check if the third value of `list_4` is greater than the fourth value in `list_4`\n",
    "    - Store the result in `comp_result_2`\n",
    "\n",
    "\n",
    "- Check if the last value of `list_4` is less than the second value in `list_4`\n",
    "    - Store the result in `comp_result_3`\n",
    "\n",
    "\n",
    "- Check if the second value of `list_2` multiplied by the fifth value of `list_3` is less than the second to last value in `list_4`\n",
    "    - Store the result in `comp_result_4`\n",
    "\n",
    "Keep in mind that you are storing the result of a comparison to a variable, so resulting variables should all be booleans."
   ]
  },
  {
   "cell_type": "code",
   "execution_count": null,
   "id": "dd5b920e",
   "metadata": {},
   "outputs": [],
   "source": [
    "#your answer here\n"
   ]
  },
  {
   "cell_type": "markdown",
   "id": "5d402987",
   "metadata": {},
   "source": [
    "\n",
    "### Q2 - Counting things with dictionaries.\n",
    "\n",
    "Build a dictionary called `word_count` that represents the number of times each word occurred in the list called `word_list` via a for loop.  Note that some of the items in word_list are not words, they are empty strings, so you need to check to see if they 'exist' first before filling up your dictionary! To do this you can use the `not` operator and you can check to see if a word is already in the dictionary using `not in` (there are likely other ways to do this...just some hints!)"
   ]
  },
  {
   "cell_type": "code",
   "execution_count": 1,
   "id": "729c7096",
   "metadata": {},
   "outputs": [],
   "source": [
    "word_list = ['whose', 'woods', 'these', 'are', 'i', 'think', 'i', 'know', 'his', 'house', 'is', 'in', 'the', 'village', 'though', 'he', 'will', 'not', 'see', 'me', 'stopping', 'here', 'to', 'watch', 'his', 'woods', 'fill', 'up', 'with', 'snow', '', 'my', 'little', 'horse', 'must', 'think', 'it', 'queer', 'to', 'stop', 'without', 'a', 'farmhouse', 'near', 'between', 'the', 'woods', 'and', 'frozen', 'lake', 'the', 'darkest', 'evening', 'of', 'the', 'year', '', 'he', 'gives', 'his', 'harness', 'bells', 'a', 'shake', 'to', 'ask', 'if', 'there', 'is', 'some', 'mistake', 'the', 'only', 'other', 'sounds', 'the', 'sweep', 'of', 'easy', 'wind', 'and', 'downy', 'flake', '', 'the', 'woods', 'are', 'lovely', 'dark', 'and', 'deep', 'but', 'i', 'have', 'promises', 'to', 'keep', 'and', 'miles', 'to', 'go', 'before', 'i', 'sleep', 'and', 'miles', 'to', 'go', 'before', 'i', 'sleep']\n"
   ]
  },
  {
   "cell_type": "code",
   "execution_count": 2,
   "id": "12499ee2",
   "metadata": {},
   "outputs": [],
   "source": [
    "# your answer here\n"
   ]
  },
  {
   "cell_type": "markdown",
   "id": "45b90e36",
   "metadata": {},
   "source": [
    "### Q3 - most common words\n",
    "\n",
    "In Q2 you made a dictionary of word counts (called `word_count`).  Here, please find the most common word in that dictionary, and store it in the variable called `most_common`.  Do not hard-code the answer!  Your code should get the correct answer even if the contents of `word_count` were different."
   ]
  },
  {
   "cell_type": "code",
   "execution_count": null,
   "id": "f1457036",
   "metadata": {},
   "outputs": [],
   "source": [
    "# your answer here\n",
    "\n"
   ]
  },
  {
   "cell_type": "markdown",
   "id": "f875d0ef",
   "metadata": {},
   "source": [
    "### Q4 - Import numpy, then make an array of the first 12 even numbers with shape (2, 6). Print the resulting array following each step below. Use np.arange to make the sequence...\n",
    "\n",
    "* Make every other value of the second row odd by subtracting 1 from it.\n",
    "* Reverse the entries (columns) in the first row.\n",
    "* Make the last value of the entire array the sum of all the other numbers beside the last value.\n",
    "* Normalize the first row to have unit area (area of 1) by dividing each number by the sum of the first row and then overwriting the original contents of the first row with the normalized values. \n",
    "    * Did it work? or did you get a row of 0's after you normalized?\n",
    "    * If you got a row of zeros, how would you change your original input parameters to np.arange in part 1 to make it work? think about the properties of different numerical data types..."
   ]
  },
  {
   "cell_type": "code",
   "execution_count": 1,
   "id": "4c0a6202",
   "metadata": {},
   "outputs": [],
   "source": [
    "# your answer here\n"
   ]
  }
 ],
 "metadata": {
  "kernelspec": {
   "display_name": "Python 3",
   "language": "python",
   "name": "python3"
  },
  "language_info": {
   "codemirror_mode": {
    "name": "ipython",
    "version": 3
   },
   "file_extension": ".py",
   "mimetype": "text/x-python",
   "name": "python",
   "nbconvert_exporter": "python",
   "pygments_lexer": "ipython3",
   "version": "3.8.8"
  }
 },
 "nbformat": 4,
 "nbformat_minor": 5
}
