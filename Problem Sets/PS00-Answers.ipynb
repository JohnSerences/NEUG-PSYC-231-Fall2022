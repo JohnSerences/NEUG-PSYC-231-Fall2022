{
 "cells": [
  {
   "cell_type": "markdown",
   "id": "de3f7c37",
   "metadata": {},
   "source": [
    "# Problem set 00\n",
    "* Markdown, basic syntax, control flow, looping\n",
    "* js (jserences@ucsd.edu), Fall 2022 for NEUG/PSYC 231"
   ]
  },
  {
   "cell_type": "markdown",
   "id": "4bfa5e58",
   "metadata": {},
   "source": [
    "### 0: Markdown cells\n",
    "\n",
    "- Convert the cell immediately below this one from a code cell to a markdown cell.\n",
    "- Write a Level 3 heading with your name.\n",
    "- Below that create a bulleted list that states your grad program (or major), your favorite food, and a hobby.\n",
    "- Finally, write out the sentence: “I can learn to code and I will be excellent at it!” with the following formatting:\n",
    "     - the word “can” should be in bold\n",
    "     - the word \"excellent\" should be in italics\n",
    "     - the word \"code\" should be a link to `https://www.python.org`"
   ]
  },
  {
   "cell_type": "markdown",
   "id": "fa5f5e91",
   "metadata": {},
   "source": []
  },
  {
   "cell_type": "markdown",
   "id": "d324c050",
   "metadata": {},
   "source": [
    "### 1: Variables and Arithmetic\n",
    "\n",
    "In the cell below,\n",
    "- assign `4` to the integer variable `x`,\n",
    "- assign the square root of 3 to the variable `y` (remember taking the square root is the same as raising to the power of 1/2: $\\sqrt{a}=a^{0.5}$)\n",
    "- assign the sum of `x` and `y` to the variable `xy_sum`\n",
    "- assign the product of `x` and `y` to the variable `xy_prod`\n",
    "- and then confirm that this was successful by checking the type using both the `type` function and the `isinstance` function (you can `print` these so you can see the output)\n",
    "- print out `xy_prod`, then convert `xy_prod` to an `int` using typecasting...what happens to the value? (i.e. what information do you lose?) "
   ]
  },
  {
   "cell_type": "code",
   "execution_count": 2,
   "id": "3788125a",
   "metadata": {},
   "outputs": [
    {
     "name": "stdout",
     "output_type": "stream",
     "text": [
      "<class 'float'>\n",
      "True\n",
      "6.928203230275509\n",
      "6\n"
     ]
    }
   ],
   "source": [
    "# your answer here\n",
    "x = 4\n",
    "y = 3**.5\n",
    "xy_sum = x + y\n",
    "xy_prod = x * y\n",
    "print(type(xy_prod))\n",
    "print(isinstance(xy_prod, float))\n",
    "print(xy_prod)\n",
    "print(int(xy_prod))"
   ]
  },
  {
   "cell_type": "markdown",
   "id": "76a98093",
   "metadata": {},
   "source": [
    "### 2: types and operators\n",
    "\n",
    "The variables `x` and `y` are set for you in the next cell - do not modify them but run that cell.\n",
    "Then use only the variables `x` and `y`, the functions `int()`, `str()` and the operators `+` and `*` to make the following variables have these types and values:\n",
    "- `A` (float) 8.0\n",
    "- `B` (int) 15\n",
    "- `C` (str) 33333\n",
    "- `D` (str) 53\n",
    "- `E` (int) 33"
   ]
  },
  {
   "cell_type": "code",
   "execution_count": 5,
   "id": "edb6df3d",
   "metadata": {},
   "outputs": [],
   "source": [
    "# run this code cell first\n",
    "x = '3'\n",
    "y = 5.0"
   ]
  },
  {
   "cell_type": "code",
   "execution_count": 11,
   "id": "86f77825",
   "metadata": {},
   "outputs": [],
   "source": [
    "# your answer here\n"
   ]
  },
  {
   "cell_type": "markdown",
   "id": "e581636e",
   "metadata": {},
   "source": [
    "### 3: Filter list\n",
    "\n",
    "- make a list `multiples_of_2_or_3` which contains all the numbers between 1 and 100 that are either multiples of 2 or multiples of 3 using a combination of a `for` loop with a `if` conditional inside the loop.\n",
    "- start by initializing an empty list, then fill it up in the loop using the `append` method of a list\n",
    "- To figure out if a number is evenly divisible by 2 or 3 use the `%` (mod) operator. The `%` operator returns the remainder after division, and if a number is evenly divisible by 2 (for example) then the result of that number `%` 2 will be 0!"
   ]
  },
  {
   "cell_type": "code",
   "execution_count": 16,
   "id": "eae03a5b",
   "metadata": {},
   "outputs": [
    {
     "data": {
      "text/plain": [
       "[2,\n",
       " 3,\n",
       " 4,\n",
       " 6,\n",
       " 8,\n",
       " 9,\n",
       " 10,\n",
       " 12,\n",
       " 14,\n",
       " 15,\n",
       " 16,\n",
       " 18,\n",
       " 20,\n",
       " 21,\n",
       " 22,\n",
       " 24,\n",
       " 26,\n",
       " 27,\n",
       " 28,\n",
       " 30,\n",
       " 32,\n",
       " 33,\n",
       " 34,\n",
       " 36,\n",
       " 38,\n",
       " 39,\n",
       " 40,\n",
       " 42,\n",
       " 44,\n",
       " 45,\n",
       " 46,\n",
       " 48,\n",
       " 50,\n",
       " 51,\n",
       " 52,\n",
       " 54,\n",
       " 56,\n",
       " 57,\n",
       " 58,\n",
       " 60,\n",
       " 62,\n",
       " 63,\n",
       " 64,\n",
       " 66,\n",
       " 68,\n",
       " 69,\n",
       " 70,\n",
       " 72,\n",
       " 74,\n",
       " 75,\n",
       " 76,\n",
       " 78,\n",
       " 80,\n",
       " 81,\n",
       " 82,\n",
       " 84,\n",
       " 86,\n",
       " 87,\n",
       " 88,\n",
       " 90,\n",
       " 92,\n",
       " 93,\n",
       " 94,\n",
       " 96,\n",
       " 98,\n",
       " 99,\n",
       " 100]"
      ]
     },
     "execution_count": 16,
     "metadata": {},
     "output_type": "execute_result"
    }
   ],
   "source": [
    "# your answer here\n",
    "multiples_of_2_or_3 = []\n",
    "for i in range(1, 101):\n",
    "    if i%2 == 0 or i%3 == 0:\n",
    "        multiples_of_2_or_3.append(i)\n",
    "        \n",
    "multiples_of_2_or_3"
   ]
  },
  {
   "cell_type": "markdown",
   "id": "2983546b",
   "metadata": {},
   "source": [
    "### 4 FizzBuzz list\n",
    "\n",
    "FizzBuzz is a canonical programming challenge involving looping, conditionals, and comparisons.  The goal is to implement the kids' game [\"Fizz Buzz\"](https://en.wikipedia.org/wiki/Fizz_buzz):  Count up from 1.  For each number, if it is divisible by 3 say \"Fizz\", if it is divisible by 5 say \"Buzz\", (thus say \"FizzBuzz\" for numbers divisible by 15).  For all other numbers, just say that number.\n",
    "\n",
    "Use a `for` loop, `if..elif...else` statements, to build a list variable with the name `fizzbuzz`.\n",
    "- the list should contain the numbers 1 through 100, in order except:\n",
    "- any number that is a multiple of 3 should be replaced with the string \"Fizz\"\n",
    "- any number that is a multiple of 5 should be replaced with the string \"Buzz\"\n",
    "- any number that is a multiple of 3 and 5 (i.e. a multiple of 15) should be replaced with \"FizzBuzz\"\n",
    "\n",
    "Here is a table of sample output (only going up to the number 16):\n",
    "\n",
    "| **n** | **result** |\n",
    "| ------|-----------|\n",
    "| 1 | 1 | \n",
    "| 2 | 2 |\n",
    "| 3 | \"Fizz\" |\n",
    "| 4 | 4 |\n",
    "| 5 | \"Buzz\" |\n",
    "| 6 | \"Fizz\" | \n",
    "| 7 | 7 | \n",
    "| ... | ... | \n",
    "| 14 | 14 | \n",
    "| 15 | \"FizzBuzz\" |\n",
    "| 16 | 16 |  "
   ]
  },
  {
   "cell_type": "code",
   "execution_count": 14,
   "id": "d452184f",
   "metadata": {},
   "outputs": [
    {
     "name": "stdout",
     "output_type": "stream",
     "text": [
      "[1, 2, 'Fizz', 4, 'Buzz', 'Fizz', 7, 8, 'Fizz', 'Buzz', 11, 'Fizz', 13, 14, 'FizzBuzz', 16, 17, 'Fizz', 19, 'Buzz', 'Fizz', 22, 23, 'Fizz', 'Buzz', 26, 'Fizz', 28, 29, 'FizzBuzz', 31, 32, 'Fizz', 34, 'Buzz', 'Fizz', 37, 38, 'Fizz', 'Buzz', 41, 'Fizz', 43, 44, 'FizzBuzz', 46, 47, 'Fizz', 49, 'Buzz', 'Fizz', 52, 53, 'Fizz', 'Buzz', 56, 'Fizz', 58, 59, 'FizzBuzz', 61, 62, 'Fizz', 64, 'Buzz', 'Fizz', 67, 68, 'Fizz', 'Buzz', 71, 'Fizz', 73, 74, 'FizzBuzz', 76, 77, 'Fizz', 79, 'Buzz', 'Fizz', 82, 83, 'Fizz', 'Buzz', 86, 'Fizz', 88, 89, 'FizzBuzz', 91, 92, 'Fizz', 94, 'Buzz', 'Fizz', 97, 98, 'Fizz', 'Buzz']\n"
     ]
    }
   ],
   "source": [
    "# your answer here\n",
    "fizzbuzz = []\n",
    "for i in range(1, 101):\n",
    "    if (i%3==0) and (i%5==0):\n",
    "        fizzbuzz.append(\"FizzBuzz\")\n",
    "    elif i%3==0:\n",
    "        fizzbuzz.append(\"Fizz\")\n",
    "    elif i%5==0:\n",
    "        fizzbuzz.append(\"Buzz\")\n",
    "    else:\n",
    "        fizzbuzz.append(i)\n",
    "        \n",
    "print(fizzbuzz)"
   ]
  },
  {
   "cell_type": "markdown",
   "id": "dcb0a832",
   "metadata": {},
   "source": [
    "### Challenge question: \n",
    "\n",
    "It is possible to solve the FizzBuzz challenge by writing a function which uses no conditional logic at all, but which uses math to separate integers into 4 possible categories: \n",
    "\n",
    "    Those which have 3 as a factor, but not 5\n",
    "    Those which have 5 as a factor, but not 3\n",
    "    Those which have both 3 and 5 as a factor\n",
    "    Those which have neither 3 nor 5 as factors\n",
    "\n",
    "(Note - I just ran across this today, and it seems kind of fun, but challenging!)\n",
    "\n",
    "[explanation here](http://philcrissman.net/posts/eulers-fizzbuzz/)\n"
   ]
  },
  {
   "cell_type": "code",
   "execution_count": 12,
   "id": "b2911e08",
   "metadata": {},
   "outputs": [
    {
     "data": {
      "text/plain": [
       "[1,\n",
       " 2,\n",
       " 'Fizz',\n",
       " 4,\n",
       " 'Buzz',\n",
       " 'Fizz',\n",
       " 7,\n",
       " 8,\n",
       " 'Fizz',\n",
       " 'Buzz',\n",
       " 11,\n",
       " 'Fizz',\n",
       " 13,\n",
       " 14,\n",
       " 'FizzBuzz',\n",
       " 16,\n",
       " 17,\n",
       " 'Fizz',\n",
       " 19,\n",
       " 'Buzz',\n",
       " 'Fizz',\n",
       " 22,\n",
       " 23,\n",
       " 'Fizz',\n",
       " 'Buzz',\n",
       " 26,\n",
       " 'Fizz',\n",
       " 28,\n",
       " 29,\n",
       " 'FizzBuzz',\n",
       " 31,\n",
       " 32,\n",
       " 'Fizz',\n",
       " 34,\n",
       " 'Buzz',\n",
       " 'Fizz',\n",
       " 37,\n",
       " 38,\n",
       " 'Fizz',\n",
       " 'Buzz',\n",
       " 41,\n",
       " 'Fizz',\n",
       " 43,\n",
       " 44,\n",
       " 'FizzBuzz',\n",
       " 46,\n",
       " 47,\n",
       " 'Fizz',\n",
       " 49,\n",
       " 'Buzz',\n",
       " 'Fizz',\n",
       " 52,\n",
       " 53,\n",
       " 'Fizz',\n",
       " 'Buzz',\n",
       " 56,\n",
       " 'Fizz',\n",
       " 58,\n",
       " 59,\n",
       " 'FizzBuzz',\n",
       " 61,\n",
       " 62,\n",
       " 'Fizz',\n",
       " 64,\n",
       " 'Buzz',\n",
       " 'Fizz',\n",
       " 67,\n",
       " 68,\n",
       " 'Fizz',\n",
       " 'Buzz',\n",
       " 71,\n",
       " 'Fizz',\n",
       " 73,\n",
       " 74,\n",
       " 'FizzBuzz',\n",
       " 76,\n",
       " 77,\n",
       " 'Fizz',\n",
       " 79,\n",
       " 'Buzz',\n",
       " 'Fizz',\n",
       " 82,\n",
       " 83,\n",
       " 'Fizz',\n",
       " 'Buzz',\n",
       " 86,\n",
       " 'Fizz',\n",
       " 88,\n",
       " 89,\n",
       " 'FizzBuzz',\n",
       " 91,\n",
       " 92,\n",
       " 'Fizz',\n",
       " 94,\n",
       " 'Buzz',\n",
       " 'Fizz',\n",
       " 97,\n",
       " 98,\n",
       " 'Fizz',\n",
       " 'Buzz']"
      ]
     },
     "execution_count": 12,
     "metadata": {},
     "output_type": "execute_result"
    }
   ],
   "source": [
    "# your answer here\n",
    "[(lambda n: { 1: n, 6: \"Fizz\", 10: \"Buzz\", 0: \"FizzBuzz\" }[n**4%15])(n+1) for n in range(100)]"
   ]
  }
 ],
 "metadata": {
  "kernelspec": {
   "display_name": "Python 3",
   "language": "python",
   "name": "python3"
  },
  "language_info": {
   "codemirror_mode": {
    "name": "ipython",
    "version": 3
   },
   "file_extension": ".py",
   "mimetype": "text/x-python",
   "name": "python",
   "nbconvert_exporter": "python",
   "pygments_lexer": "ipython3",
   "version": "3.8.8"
  }
 },
 "nbformat": 4,
 "nbformat_minor": 5
}
